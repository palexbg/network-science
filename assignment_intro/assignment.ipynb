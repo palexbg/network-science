{
 "cells": [
  {
   "cell_type": "markdown",
   "metadata": {},
   "source": [
    "# Assignment — Introduction to Network Science"
   ]
  },
  {
   "cell_type": "markdown",
   "metadata": {},
   "source": [
    "In this assignment, we will consider some basics of networkx 2.5."
   ]
  },
  {
   "cell_type": "code",
   "execution_count": null,
   "metadata": {},
   "outputs": [],
   "source": [
    "import numpy as np\n",
    "import networkx as nx\n",
    "import matplotlib.pyplot as plt\n",
    "import requests\n",
    "from zlib import adler32"
   ]
  },
  {
   "cell_type": "code",
   "execution_count": null,
   "metadata": {},
   "outputs": [],
   "source": [
    "assert nx.__version__ > '2.5'"
   ]
  },
  {
   "cell_type": "markdown",
   "metadata": {},
   "source": [
    "In case of an exception, install networkx 2.5.1 using `pip` as follows:\n",
    "```\n",
    "pip uninstall networkx\n",
    "pip install networkx==2.5.1\n",
    "```"
   ]
  },
  {
   "cell_type": "markdown",
   "metadata": {},
   "source": [
    "### Task 1. Reading a graph from a file (1 point)"
   ]
  },
  {
   "cell_type": "code",
   "execution_count": null,
   "metadata": {},
   "outputs": [],
   "source": [
    "url = 'https://raw.githubusercontent.com/netspractice/network-science/main/datasets/the_lord_of_the_rings_adjlist.txt'\n",
    "open('the_lord_of_the_rings_adjlist.txt', 'wb').write(requests.get(url).content)\n",
    "\n",
    "url = 'https://raw.githubusercontent.com/netspractice/network-science/main/datasets/the_lord_of_the_rings_edgelist.txt'\n",
    "open('the_lord_of_the_rings_edgelist.txt', 'wb').write(requests.get(url).content);\n"
   ]
  },
  {
   "cell_type": "markdown",
   "metadata": {},
   "source": [
    "A common representation of a graph is an adjacency matrix, but many real-world graphs are sparse (many zeros in an adjacency matrix), so in most cases data is stored in cheap sparse formats\n",
    "1. edge list\n",
    "2. adjacency list\n",
    "\n",
    "Edge list is a list of pairs of nodes — a target and destination of edges. Here is an edge list of an interaction network of films \"The Lord of the Rings\" (2001-2003).\n",
    "\n",
    "Edges are the links\n",
    "Nodes are the actors or vertices"
   ]
  },
  {
   "cell_type": "code",
   "execution_count": null,
   "metadata": {},
   "outputs": [],
   "source": [
    "with open('the_lord_of_the_rings_edgelist.txt') as f:\n",
    "    print(f.read()[:])"
   ]
  },
  {
   "cell_type": "markdown",
   "metadata": {},
   "source": [
    "Adjacency list is a list of lists of nodes where the first node is a root and others are leafs"
   ]
  },
  {
   "cell_type": "code",
   "execution_count": null,
   "metadata": {},
   "outputs": [],
   "source": [
    "with open('the_lord_of_the_rings_adjlist.txt') as f:\n",
    "    print(f.read()[:])"
   ]
  },
  {
   "cell_type": "markdown",
   "metadata": {},
   "source": [
    "For most cases we can use given functions in networkx:\n",
    "\n",
    "* `nx.read_adjlist`\n",
    "* `nx.read_edgelist`\n",
    "* `nx.read_weighted_edgelist`\n",
    "\n",
    "In the further task, read graphs `the_lord_of_the_rings_edgelist.txt`, `the_lord_of_the_rings_adjlist.txt` and combine them into a single graph such that the same nodes are merged in a single node preserving all adjacent edges.\n",
    "\n",
    "*Hint: use `graph.add_edges_from`*"
   ]
  },
  {
   "cell_type": "code",
   "execution_count": null,
   "metadata": {
    "deletable": false,
    "nbgrader": {
     "cell_type": "code",
     "checksum": "fed185238ff4d2e14377e4382851f288",
     "grade": false,
     "grade_id": "cell-3d2796d8ac544282",
     "locked": false,
     "schema_version": 3,
     "solution": true,
     "task": false
    }
   },
   "outputs": [],
   "source": [
    "def read_and_merge_graphs(edgelist_path, adjlist_path, delimiter):\n",
    "    adjlist = nx.read_adjlist(adjlist_path, delimiter=delimiter) # Start is the main node and everything after are leaves\n",
    "    edgelist = nx.read_edgelist(edgelist_path, delimiter=delimiter) # Just bidrectional connections on each row\n",
    "    \n",
    "    G = nx.compose(adjlist, edgelist)\n",
    "    return G"
   ]
  },
  {
   "cell_type": "code",
   "execution_count": null,
   "metadata": {
    "deletable": false,
    "editable": false,
    "nbgrader": {
     "cell_type": "code",
     "checksum": "0b5e8dcd8a7243cd4111b0a2e4126eb2",
     "grade": true,
     "grade_id": "cell-d59c4e439b3aa75d",
     "locked": true,
     "points": 1,
     "schema_version": 3,
     "solution": false,
     "task": false
    }
   },
   "outputs": [],
   "source": [
    "G = read_and_merge_graphs(\"the_lord_of_the_rings_edgelist.txt\", \n",
    "                          \"the_lord_of_the_rings_adjlist.txt\", delimiter=\", \")\n",
    "assert set(G.neighbors('SAM')) == {\n",
    "    'BILBO',\n",
    "    'ELROND',\n",
    "    'FRODO',\n",
    "    'GALADRIEL',\n",
    "    'GANDALF',\n",
    "    'GOLLUM',\n",
    "    'GORBAG',\n",
    "    'SHAGRAT',\n",
    "    'SMEAGOL'}\n",
    "assert nx.number_of_nodes(G) == 35\n",
    "assert nx.number_of_edges(G) == 98"
   ]
  },
  {
   "cell_type": "markdown",
   "metadata": {},
   "source": [
    "### Task 2. Nodes labeling (1 point)"
   ]
  },
  {
   "cell_type": "markdown",
   "metadata": {},
   "source": [
    "Nodes in many real-world graphs represents some objects, say people in social networks or atoms in molecular networks. Usually, names of such nodes is in the string format, but in many cases it can be useful to make names and indices of nodes equal. Using such labeling, we can refer to a particular node by its index.\n",
    "\n",
    "Write a function `convert_node_names_to_int` that takes a graph with string names and returns a new graph with integer names so that first node in the initial graph is called 0 in the new graph, second is 1 and so on. Also, save initial names in the node attribute `name`."
   ]
  },
  {
   "cell_type": "markdown",
   "metadata": {},
   "source": [
    "AP: Often it is useful to just **label the nodes with their respective index** so that it is easier afterwards to call and anal\n",
    "yze them."
   ]
  },
  {
   "cell_type": "code",
   "execution_count": null,
   "metadata": {
    "deletable": false,
    "nbgrader": {
     "cell_type": "code",
     "checksum": "1cc38a3cde9d3cfc3208b4d72c77f77d",
     "grade": false,
     "grade_id": "cell-00a45e63001782dc",
     "locked": false,
     "schema_version": 3,
     "solution": true,
     "task": false
    }
   },
   "outputs": [],
   "source": [
    "def convert_node_names_to_int(G):\n",
    "    mapping = dict(zip(list(G.nodes()),range(len(list(G.nodes())))))\n",
    "    newG = nx.relabel_nodes(G, mapping)\n",
    "    attributes = {}\n",
    "    for x in range(0, len(list(G.nodes))):\n",
    "        old_name = list(G.nodes)[x]\n",
    "        attributes.update({x: {\"name\": old_name}})\n",
    "\n",
    "    nx.set_node_attributes(newG, attributes)\n",
    "    return newG"
   ]
  },
  {
   "cell_type": "code",
   "execution_count": null,
   "metadata": {
    "deletable": false,
    "editable": false,
    "nbgrader": {
     "cell_type": "code",
     "checksum": "559bc7715a001a9695c5ec2b0a4ced32",
     "grade": true,
     "grade_id": "cell-8e24f330185f725a",
     "locked": true,
     "points": 1,
     "schema_version": 3,
     "solution": false,
     "task": false
    }
   },
   "outputs": [],
   "source": [
    "newG = convert_node_names_to_int(G)\n",
    "for i in range(len(G)):\n",
    "    assert list(G.nodes)[i] == newG.nodes[i]['name']\n",
    "assert np.allclose(nx.to_numpy_array(G), nx.to_numpy_array(newG))"
   ]
  },
  {
   "cell_type": "markdown",
   "metadata": {},
   "source": [
    "### Task 3. Directed graph (1 point)"
   ]
  },
  {
   "cell_type": "markdown",
   "metadata": {},
   "source": [
    "The direction of edges could be crucial feature for many tasks, e.g. link analysis. Directed edges are also known as links or arcs. In networkx, the type of graph is defined by a constructor: `nx.Graph` for undirected graph, `nx.DiGraph` for directed graph. A directed graph can have an asymmetric adjacency matrix."
   ]
  },
  {
   "cell_type": "code",
   "execution_count": 46,
   "metadata": {},
   "outputs": [
    {
     "data": {
      "text/plain": [
       "array([[0., 1., 0.],\n",
       "       [0., 0., 1.],\n",
       "       [0., 0., 0.]])"
      ]
     },
     "execution_count": 46,
     "metadata": {},
     "output_type": "execute_result"
    }
   ],
   "source": [
    "diG = nx.DiGraph()\n",
    "diG.add_edges_from([[0, 1], [1, 2]])\n",
    "nx.to_numpy_array(diG)\n",
    "\n",
    "#nx.draw(diG)"
   ]
  },
  {
   "cell_type": "markdown",
   "metadata": {},
   "source": [
    "Write a function `convert_to_digraph` that takes an undirected graph and returns a new directed graph where the direction is defined by the rule: the node $i$ follows to $j$ if the length of `name` of $i$ is at least the length of `name` of $j$. Keep the ordering of nodes and the node attribute `name`."
   ]
  },
  {
   "cell_type": "code",
   "execution_count": null,
   "metadata": {
    "deletable": false,
    "nbgrader": {
     "cell_type": "code",
     "checksum": "cb6d01f1037b300cb5985bf659604f4c",
     "grade": false,
     "grade_id": "cell-4ff100c55840771c",
     "locked": false,
     "schema_version": 3,
     "solution": true,
     "task": false
    }
   },
   "outputs": [],
   "source": [
    "def convert_to_digraph(G):\n",
    "    # YOUR CODE HERE\n",
    "    raise NotImplementedError()"
   ]
  },
  {
   "cell_type": "code",
   "execution_count": 66,
   "metadata": {},
   "outputs": [
    {
     "data": {
      "text/plain": [
       "117"
      ]
     },
     "execution_count": 66,
     "metadata": {},
     "output_type": "execute_result"
    }
   ],
   "source": [
    "newGG = nx.DiGraph()\n",
    "newGG.add_nodes_from(newG)\n",
    "newGG.nodes\n",
    "assert list(newGG.nodes) == list(newG.nodes) #ok this passes\n",
    "\n",
    "list(newG.nodes)\n",
    " \n",
    "container_list = []\n",
    "for i in range(0, len(newG.nodes)):\n",
    "    for j in range(0, len(newG.nodes)):\n",
    "        check_longer = len(newG.nodes[i]['name'])>= len(newG.nodes[j]['name'])\n",
    "        check_existing = nx.to_numpy_matrix(newG)[i,j] == 1\n",
    "        if check_longer and check_existing:\n",
    "            container_list.append([i, j])"
   ]
  },
  {
   "cell_type": "code",
   "execution_count": null,
   "metadata": {
    "deletable": false,
    "editable": false,
    "nbgrader": {
     "cell_type": "code",
     "checksum": "ddf557705e56e20d2e1ce3dd01232249",
     "grade": true,
     "grade_id": "cell-bfab7d9d16583e9c",
     "locked": true,
     "points": 1,
     "schema_version": 3,
     "solution": false,
     "task": false
    }
   },
   "outputs": [],
   "source": [
    "diG = convert_to_digraph(newG)\n",
    "assert list(diG.nodes) == list(newG.nodes)\n",
    "for i, j in diG.edges:\n",
    "    assert len(diG.nodes[i]['name']) >= len(diG.nodes[j]['name'])\n",
    "assert len(diG.edges) == 117"
   ]
  },
  {
   "cell_type": "markdown",
   "metadata": {},
   "source": [
    "### Task 4. Basic statistics (1 point)"
   ]
  },
  {
   "cell_type": "markdown",
   "metadata": {},
   "source": [
    "Networkx provides a simple interface for getting basic graph statistics (look at the documentation to recall definitions):\n",
    "* `nx.radius`\n",
    "* `nx.diameter`\n",
    "* `nx.average_shortest_path_length`\n",
    "* `nx.average_clustering`\n",
    "\n",
    "For example, here are statistics of a path graph with 3 nodes:"
   ]
  },
  {
   "cell_type": "code",
   "execution_count": null,
   "metadata": {},
   "outputs": [],
   "source": [
    "G = nx.path_graph(3)\n",
    "print('Radius: ', nx.radius(G))\n",
    "print('Diameter: ', nx.diameter(G))\n",
    "print('Average shortest path length: ', nx.average_shortest_path_length(G))\n",
    "print('Average clustering coefficient: ', nx.average_clustering(G))\n",
    "nx.draw_networkx(G)"
   ]
  },
  {
   "cell_type": "markdown",
   "metadata": {},
   "source": [
    "Your task is to create graphs by given statistics. We can create a graph using simple networkx interfaces. For example, we can create a graph by passing an edgelist."
   ]
  },
  {
   "cell_type": "code",
   "execution_count": null,
   "metadata": {},
   "outputs": [],
   "source": [
    "G = nx.Graph([[0, 1], [1, 2], [2, 0]])\n",
    "nx.draw_networkx(G)"
   ]
  },
  {
   "cell_type": "markdown",
   "metadata": {},
   "source": [
    "Or create an empty graph and then add edges one by one."
   ]
  },
  {
   "cell_type": "code",
   "execution_count": null,
   "metadata": {},
   "outputs": [],
   "source": [
    "G = nx.Graph()\n",
    "G.add_edge(0, 1)\n",
    "G.add_edge(1, 2)\n",
    "G.add_edge(2, 0)\n",
    "nx.draw_networkx(G)"
   ]
  },
  {
   "cell_type": "markdown",
   "metadata": {},
   "source": [
    "Your task is to create graphs by given statistics.\n",
    "\n",
    "Write a function `graph1` that returns a graph with a radius 3 and diameter 3."
   ]
  },
  {
   "cell_type": "code",
   "execution_count": null,
   "metadata": {
    "deletable": false,
    "nbgrader": {
     "cell_type": "code",
     "checksum": "c84fe0f878bf1198b5cb5ac8e59208be",
     "grade": false,
     "grade_id": "cell-1b71ec27d5c70dc5",
     "locked": false,
     "schema_version": 3,
     "solution": true,
     "task": false
    }
   },
   "outputs": [],
   "source": [
    "def graph1():\n",
    "    # YOUR CODE HERE\n",
    "    raise NotImplementedError()"
   ]
  },
  {
   "cell_type": "code",
   "execution_count": null,
   "metadata": {
    "deletable": false,
    "editable": false,
    "nbgrader": {
     "cell_type": "code",
     "checksum": "bf8ce24f12d1c535b34186d492fa7f26",
     "grade": true,
     "grade_id": "cell-02d925c056e1f040",
     "locked": true,
     "points": 0.4,
     "schema_version": 3,
     "solution": false,
     "task": false
    }
   },
   "outputs": [],
   "source": [
    "G = graph1()\n",
    "assert nx.radius(G) == nx.diameter(G) == 3\n",
    "nx.draw_networkx(G)"
   ]
  },
  {
   "cell_type": "markdown",
   "metadata": {},
   "source": [
    "Write a function `graph2` that returns a graph with a diameter of at least 5 average shortest path lengths."
   ]
  },
  {
   "cell_type": "code",
   "execution_count": null,
   "metadata": {
    "deletable": false,
    "nbgrader": {
     "cell_type": "code",
     "checksum": "799f8a31e39135ad10909330531c9bd1",
     "grade": false,
     "grade_id": "cell-e6b06880520f2cf7",
     "locked": false,
     "schema_version": 3,
     "solution": true,
     "task": false
    }
   },
   "outputs": [],
   "source": [
    "def graph2():\n",
    "    # YOUR CODE HERE\n",
    "    raise NotImplementedError()"
   ]
  },
  {
   "cell_type": "code",
   "execution_count": null,
   "metadata": {
    "deletable": false,
    "editable": false,
    "nbgrader": {
     "cell_type": "code",
     "checksum": "6a4a22c4b1dafbce696c4b28b93e16aa",
     "grade": true,
     "grade_id": "cell-a6c86b83e11199d8",
     "locked": true,
     "points": 0.3,
     "schema_version": 3,
     "solution": false,
     "task": false
    }
   },
   "outputs": [],
   "source": [
    "G = graph2()\n",
    "assert nx.diameter(G) >= 5 * nx.average_shortest_path_length(G)\n",
    "nx.draw_networkx(G)"
   ]
  },
  {
   "cell_type": "markdown",
   "metadata": {},
   "source": [
    "Write a function `graph3` that returns a graph with an average clustering coefficient between 0.1 and 0.11."
   ]
  },
  {
   "cell_type": "code",
   "execution_count": null,
   "metadata": {
    "deletable": false,
    "nbgrader": {
     "cell_type": "code",
     "checksum": "6cb68bce05eee60aee8b3beb96ecbb80",
     "grade": false,
     "grade_id": "cell-eda0d295af4fc263",
     "locked": false,
     "schema_version": 3,
     "solution": true,
     "task": false
    }
   },
   "outputs": [],
   "source": [
    "def graph3():\n",
    "    # YOUR CODE HERE\n",
    "    raise NotImplementedError()"
   ]
  },
  {
   "cell_type": "code",
   "execution_count": null,
   "metadata": {
    "deletable": false,
    "editable": false,
    "nbgrader": {
     "cell_type": "code",
     "checksum": "372edd82b0525fb71d8df7871be2a717",
     "grade": true,
     "grade_id": "cell-d4aeb27141847c83",
     "locked": true,
     "points": 0.3,
     "schema_version": 3,
     "solution": false,
     "task": false
    }
   },
   "outputs": [],
   "source": [
    "G = graph3()\n",
    "assert 0.1 <= nx.average_clustering(G) <= 0.11\n",
    "nx.draw_networkx(G)"
   ]
  },
  {
   "cell_type": "markdown",
   "metadata": {},
   "source": [
    "### Task 5. Graph layout (2 points)"
   ]
  },
  {
   "cell_type": "markdown",
   "metadata": {},
   "source": [
    "A graph layout is a dictionary with a location of every node: keys are nodes and values are x, y positions. By default in `nx.draw_networkx`, it is the spring layout — a force-directed representation of the network treating edges as springs holding nodes close, while treating nodes as repelling objects."
   ]
  },
  {
   "cell_type": "code",
   "execution_count": null,
   "metadata": {},
   "outputs": [],
   "source": [
    "G = nx.barabasi_albert_graph(10, 2)\n",
    "layout = nx.spring_layout(G)\n",
    "layout"
   ]
  },
  {
   "cell_type": "code",
   "execution_count": null,
   "metadata": {},
   "outputs": [],
   "source": [
    "nx.draw_networkx(G, pos=layout)"
   ]
  },
  {
   "cell_type": "markdown",
   "metadata": {},
   "source": [
    "The Kamada Kawai layout is based on path-length cost-function. Sometimes, it is quite similar to the spring layout, however a significant difference is that the spring layout is random and the Kamada Kawai is deterministic."
   ]
  },
  {
   "cell_type": "code",
   "execution_count": null,
   "metadata": {},
   "outputs": [],
   "source": [
    "layout = nx.kamada_kawai_layout(G)\n",
    "nx.draw_networkx(G, pos=layout)"
   ]
  },
  {
   "cell_type": "markdown",
   "metadata": {},
   "source": [
    "Circular layout allows to draw a graph where nodes are in a circle."
   ]
  },
  {
   "cell_type": "code",
   "execution_count": null,
   "metadata": {},
   "outputs": [],
   "source": [
    "layout = nx.circular_layout(G)\n",
    "plt.figure(figsize=(5, 5))\n",
    "nx.draw_networkx(G, pos=layout)"
   ]
  },
  {
   "cell_type": "markdown",
   "metadata": {},
   "source": [
    "Bipartite layout allows to draw bipartite graph."
   ]
  },
  {
   "cell_type": "code",
   "execution_count": null,
   "metadata": {},
   "outputs": [],
   "source": [
    "B = nx.Graph()\n",
    "B.add_nodes_from([1, 2, 3, 4], bipartite=0)\n",
    "B.add_nodes_from([\"a\", \"b\", \"c\"], bipartite=1)\n",
    "B.add_edges_from([(1, \"a\"), (1, \"b\"), (2, \"b\"), (2, \"c\"), (3, \"c\"), (4, \"a\")])\n",
    "layout = nx.bipartite_layout(B, [1, 2, 3, 4])\n",
    "nx.draw_networkx(B, pos=layout)"
   ]
  },
  {
   "cell_type": "markdown",
   "metadata": {},
   "source": [
    "There are other layouts in networkx, also there are some useful parameters that you can find in documentation. Next, let us visualize a coappearance network of characters in The Matrix — a 1999 American science fiction action film written and directed by the Wachowskis. The dataset is taken from https://moviegalaxies.com/."
   ]
  },
  {
   "cell_type": "code",
   "execution_count": null,
   "metadata": {},
   "outputs": [],
   "source": [
    "url = 'https://raw.githubusercontent.com/network-science-course/network-science-course/main/datasets/the_matrix_graph.gexf'\n",
    "open('the_matrix_graph.gexf', 'wb').write(requests.get(url).content);"
   ]
  },
  {
   "cell_type": "code",
   "execution_count": null,
   "metadata": {},
   "outputs": [],
   "source": [
    "def get_matrix_graph():\n",
    "    G = nx.read_gexf('the_matrix_graph.gexf')\n",
    "    mapping = {}\n",
    "    for node in G.nodes:\n",
    "        mapping[node] = G.nodes[node]['label']\n",
    "    G = nx.relabel_nodes(G, mapping)\n",
    "    return G\n",
    "matrixG = get_matrix_graph()\n",
    "plt.figure(figsize=(13, 7))\n",
    "layout = nx.kamada_kawai_layout(matrixG)\n",
    "nx.draw_networkx(matrixG, pos=layout)"
   ]
  },
  {
   "cell_type": "markdown",
   "metadata": {},
   "source": [
    "Your task is to draw the matrix graph using the kamada kawai layout with nonlinear modification to obtain a denser layout away from the NEO node. Let us define a proximity coefficient using Gaussian kernel\n",
    "\n",
    "$$\\text{coef}(i) = \\exp\\left(-\\frac{\\text{distance}^2}{2\\sigma^2}\\right)$$\n",
    "\n",
    "where a _distance_ is the Euclidean distance from the node $i$ to the NEO node, $\\sigma$ is the constant. Then the nodes should be moved towards the NEO node such that\n",
    "\n",
    "$$\\text{distance} = \\text{coef}(i) \\times \\text{distance}$$\n",
    "\n",
    "The simplest way to do it is to center the layout so that the NEO node is in x=0 y=0 and then to multiply all node positions by the proximity coefficient.\n",
    "\n",
    "Write a function `dense_neo_layout` that takes a layout, sigma and returns a new (dense) layout.\n",
    "\n",
    "_Hint: use `np.linalg.norm` to calculate Euclidean norm._"
   ]
  },
  {
   "cell_type": "code",
   "execution_count": null,
   "metadata": {
    "deletable": false,
    "nbgrader": {
     "cell_type": "code",
     "checksum": "64eeeda97382494873dc80b9ad016c87",
     "grade": false,
     "grade_id": "cell-6dc95d64261dffa6",
     "locked": false,
     "schema_version": 3,
     "solution": true,
     "task": false
    }
   },
   "outputs": [],
   "source": [
    "def dense_neo_layout(layout, sigma):\n",
    "    # YOUR CODE HERE\n",
    "    raise NotImplementedError()"
   ]
  },
  {
   "cell_type": "code",
   "execution_count": null,
   "metadata": {
    "deletable": false,
    "editable": false,
    "nbgrader": {
     "cell_type": "code",
     "checksum": "2998cf39574f45be0cebbc37c98d6782",
     "grade": true,
     "grade_id": "cell-fea67b2cc10bdbd6",
     "locked": true,
     "points": 2,
     "schema_version": 3,
     "solution": false,
     "task": false
    }
   },
   "outputs": [],
   "source": [
    "layout = nx.kamada_kawai_layout(matrixG)\n",
    "layout = dense_neo_layout(layout, sigma=1.5)\n",
    "assert type(layout) == dict\n",
    "assert np.all(layout['NEO'] == [0, 0])\n",
    "assert np.all(layout['REX'].round(2) == [-0.67,  0.58])\n",
    "assert adler32(str(layout['AGENT BROWN'].round(2)[0]).encode()) == 32309448"
   ]
  },
  {
   "cell_type": "code",
   "execution_count": null,
   "metadata": {},
   "outputs": [],
   "source": [
    "plt.figure(figsize=(13, 7))\n",
    "nx.draw_networkx(matrixG, layout)"
   ]
  },
  {
   "cell_type": "markdown",
   "metadata": {},
   "source": [
    "### Task 6. Nodes visualization (1 point)"
   ]
  },
  {
   "cell_type": "markdown",
   "metadata": {},
   "source": [
    "We can set a node size using `draw_networkx` with a parameter `node_size`. It should be a list of values ordered by `G.nodes`. For example, consider a simple path graph."
   ]
  },
  {
   "cell_type": "code",
   "execution_count": null,
   "metadata": {},
   "outputs": [],
   "source": [
    "G = nx.path_graph(3)\n",
    "G.nodes"
   ]
  },
  {
   "cell_type": "markdown",
   "metadata": {},
   "source": [
    "Let us set a size 200 for the node 0, 300 for 1, 400 for 2."
   ]
  },
  {
   "cell_type": "code",
   "execution_count": null,
   "metadata": {},
   "outputs": [],
   "source": [
    "layout = nx.kamada_kawai_layout(G)\n",
    "nx.draw_networkx(G, pos=layout, node_size=[200, 300, 400])"
   ]
  },
  {
   "cell_type": "markdown",
   "metadata": {},
   "source": [
    "To color nodes, we can use `node_color`. It should be a list of colors:\n",
    "* a tuple of float RGB 0-1 values: (red, green, blue)\n",
    "* a tuple of float RGBA 0-1 values: (red, green, blue, alpha)\n",
    "* a string — color name"
   ]
  },
  {
   "cell_type": "code",
   "execution_count": null,
   "metadata": {},
   "outputs": [],
   "source": [
    "nx.draw_networkx(\n",
    "    G,\n",
    "    pos=layout,\n",
    "    node_color=[(0.4, 0.8, 0, 0.6), (0.7, 0.4, 1, 0.6), (1, 0, 0.5, 0.6)])"
   ]
  },
  {
   "cell_type": "code",
   "execution_count": null,
   "metadata": {},
   "outputs": [],
   "source": [
    "nx.draw_networkx(\n",
    "    G,\n",
    "    pos=layout,\n",
    "    node_color=['green', 'cyan', 'pink'])"
   ]
  },
  {
   "cell_type": "markdown",
   "metadata": {},
   "source": [
    "Also we can use a colors from matplotlib colormaps. Discrete:"
   ]
  },
  {
   "cell_type": "code",
   "execution_count": null,
   "metadata": {},
   "outputs": [],
   "source": [
    "colors = plt.cm.Set1.colors\n",
    "nx.draw_networkx(\n",
    "    G,\n",
    "    pos=layout,\n",
    "    node_color=[colors[0], colors[1], colors[2]])"
   ]
  },
  {
   "cell_type": "markdown",
   "metadata": {},
   "source": [
    "Or continuous:"
   ]
  },
  {
   "cell_type": "code",
   "execution_count": null,
   "metadata": {},
   "outputs": [],
   "source": [
    "rainbow = plt.cm.rainbow\n",
    "nx.draw_networkx(\n",
    "    G,\n",
    "    pos=layout,\n",
    "    node_color=[rainbow(0.2), rainbow(0.8), rainbow(0.9)])"
   ]
  },
  {
   "cell_type": "markdown",
   "metadata": {},
   "source": [
    "Another option of coloring nodes is to pass a list of single values by the `node_color` and colormap by the `cmap` parameter. In this case, the lowest value will assigned to the first color in colormap and vise versa."
   ]
  },
  {
   "cell_type": "code",
   "execution_count": null,
   "metadata": {},
   "outputs": [],
   "source": [
    "nx.draw_networkx(\n",
    "    G,\n",
    "    pos=layout,\n",
    "    cmap = plt.cm.hot,\n",
    "    node_color=[1, 2, 3])"
   ]
  },
  {
   "cell_type": "markdown",
   "metadata": {},
   "source": [
    "We can forcibly set a color range using `vmin` and `vmax`."
   ]
  },
  {
   "cell_type": "code",
   "execution_count": null,
   "metadata": {},
   "outputs": [],
   "source": [
    "nx.draw_networkx(\n",
    "    G,\n",
    "    pos=layout,\n",
    "    cmap = plt.cm.hot,\n",
    "    node_color=[1, 2, 3],\n",
    "    vmin=0, vmax=4)"
   ]
  },
  {
   "cell_type": "markdown",
   "metadata": {},
   "source": [
    "We can border nodes using `edgecolors` and `linewidths` parameters."
   ]
  },
  {
   "cell_type": "code",
   "execution_count": null,
   "metadata": {},
   "outputs": [],
   "source": [
    "nx.draw_networkx(\n",
    "    G=G, \n",
    "    pos=layout,\n",
    "    cmap = plt.cm.hot, \n",
    "    node_color=[1, 2, 3],\n",
    "    vmin=0, vmax=4, \n",
    "    edgecolors='black', \n",
    "    linewidths=1)"
   ]
  },
  {
   "cell_type": "markdown",
   "metadata": {},
   "source": [
    "Your task is to adjust a size and color of nodes in the matrix graph, size and color are taken from a node degree and node attribute `G.nodes[node]`."
   ]
  },
  {
   "cell_type": "code",
   "execution_count": null,
   "metadata": {},
   "outputs": [],
   "source": [
    "matrixG.nodes['NEO']"
   ]
  },
  {
   "cell_type": "markdown",
   "metadata": {},
   "source": [
    "Write a function `drawing_nodes_params` that takes a graph and returns a dictionary with parameters for `nx.draw_networkx` of the form `{'G': graph, 'node_color': color, ...}`. Parameters should contain a graph, kamada kawai layout, node colors from `viz.color` attribute. The colors should be converted from RGB range 0-255 to RGB range 0-1. The node size is a node degree `G.degree[node]` multiplied by 100."
   ]
  },
  {
   "cell_type": "code",
   "execution_count": null,
   "metadata": {
    "deletable": false,
    "nbgrader": {
     "cell_type": "code",
     "checksum": "d3bfe7db02b468e269d4baa55f8ddee0",
     "grade": false,
     "grade_id": "cell-23d41af4fdb48d3c",
     "locked": false,
     "schema_version": 3,
     "solution": true,
     "task": false
    }
   },
   "outputs": [],
   "source": [
    "def drawing_nodes_params(graph):\n",
    "    # YOUR CODE HERE\n",
    "    raise NotImplementedError()"
   ]
  },
  {
   "cell_type": "code",
   "execution_count": null,
   "metadata": {
    "deletable": false,
    "editable": false,
    "nbgrader": {
     "cell_type": "code",
     "checksum": "677f170e6be7993ee55c9db200bd8b0a",
     "grade": true,
     "grade_id": "cell-ce378d189964cb4f",
     "locked": true,
     "points": 0.5,
     "schema_version": 3,
     "solution": false,
     "task": false
    }
   },
   "outputs": [],
   "source": [
    "matrixG = get_matrix_graph()\n",
    "params = drawing_nodes_params(matrixG)\n",
    "assert type(params) == dict\n",
    "keys = ['G', 'pos', 'node_color', 'node_size']\n",
    "assert len(set(params.keys()).intersection(keys)) == 4\n",
    "assert np.all(params['node_color'][10].round(2) == [0.37, 0.79, 0.75])\n",
    "assert adler32(str(params['node_color'][0][1].round(2)).encode()) == 19071123\n",
    "assert params['node_size'][0] == 200\n",
    "assert params['node_size'][1] == 600\n",
    "assert nx.to_numpy_array(params['G']).sum() == 326.0"
   ]
  },
  {
   "cell_type": "code",
   "execution_count": null,
   "metadata": {},
   "outputs": [],
   "source": [
    "plt.figure(figsize=(13, 7))\n",
    "nx.draw_networkx(**params )"
   ]
  },
  {
   "cell_type": "markdown",
   "metadata": {},
   "source": [
    "Sometimes, it will be useful to draw nodes in nonlinear scale. If we want to make node sizes more comparable, we can use polynomial or exponential scale. On the other hand, we can use logarithmic scale to make sizes more similar.\n",
    "\n",
    "Write a function `drawing_nodes_polyparams` that returns the same dictionary as the `drawing_nodes_params` function, but the node size is a sum of node degree in a power 3 and 10.\n",
    "\n",
    "$$\\text{size} = \\text{degree}^3 + 10$$"
   ]
  },
  {
   "cell_type": "code",
   "execution_count": null,
   "metadata": {
    "deletable": false,
    "nbgrader": {
     "cell_type": "code",
     "checksum": "f89778806a9cf3b9b1d8901f98c189e8",
     "grade": false,
     "grade_id": "cell-7056cc638b9de958",
     "locked": false,
     "schema_version": 3,
     "solution": true,
     "task": false
    }
   },
   "outputs": [],
   "source": [
    "def drawing_nodes_polyparams(graph):\n",
    "    # YOUR CODE HERE\n",
    "    raise NotImplementedError()"
   ]
  },
  {
   "cell_type": "code",
   "execution_count": null,
   "metadata": {
    "deletable": false,
    "editable": false,
    "nbgrader": {
     "cell_type": "code",
     "checksum": "a08834863e936e303acab781ca7b3cd1",
     "grade": true,
     "grade_id": "cell-6b4ea9133d917597",
     "locked": true,
     "points": 0.5,
     "schema_version": 3,
     "solution": false,
     "task": false
    }
   },
   "outputs": [],
   "source": [
    "matrixG = get_matrix_graph()\n",
    "params = drawing_nodes_polyparams(matrixG)\n",
    "assert type(params) == dict\n",
    "keys = ['G', 'pos', 'node_color', 'node_size']\n",
    "assert len(set(params.keys()).intersection(keys)) == 4\n",
    "assert np.all(params['node_color'][10].round(2) == [0.37, 0.79, 0.75])\n",
    "assert adler32(str(params['node_color'][0][1].round(2)).encode()) == 19071123\n",
    "assert params['node_size'][0] == 18\n",
    "assert params['node_size'][1] == 226\n",
    "assert nx.to_numpy_array(params['G']).sum() == 326.0"
   ]
  },
  {
   "cell_type": "code",
   "execution_count": null,
   "metadata": {},
   "outputs": [],
   "source": [
    "plt.figure(figsize=(13, 7))\n",
    "nx.draw_networkx(**params )"
   ]
  },
  {
   "cell_type": "markdown",
   "metadata": {},
   "source": [
    "### Task 7. Edges visualization, weighted graphs (1 point)"
   ]
  },
  {
   "cell_type": "markdown",
   "metadata": {},
   "source": [
    "We can set an edge width using `draw_networkx` with a parameter `width`. It should be a list of values sorted by G.edges. For example, consider a simple path graph."
   ]
  },
  {
   "cell_type": "code",
   "execution_count": null,
   "metadata": {},
   "outputs": [],
   "source": [
    "G = nx.path_graph(4)\n",
    "G.edges"
   ]
  },
  {
   "cell_type": "markdown",
   "metadata": {},
   "source": [
    "Let us set a width 1 for the edge 0-1, 5 for 1-2, 10 for 2-3."
   ]
  },
  {
   "cell_type": "code",
   "execution_count": null,
   "metadata": {},
   "outputs": [],
   "source": [
    "layout = nx.kamada_kawai_layout(G)\n",
    "nx.draw_networkx(G, pos=layout, width=[1, 5, 10])"
   ]
  },
  {
   "cell_type": "markdown",
   "metadata": {},
   "source": [
    "If we create a graph by a weighted ajacency matrix, weights will be stored in an edge attribute `weight`."
   ]
  },
  {
   "cell_type": "code",
   "execution_count": null,
   "metadata": {},
   "outputs": [],
   "source": [
    "W = np.array([[0, 1, 0, 0], \n",
    "              [1, 0, 5, 0], \n",
    "              [0, 5, 0, 10], \n",
    "              [0, 0, 10, 0]])\n",
    "G = nx.from_numpy_array(W)"
   ]
  },
  {
   "cell_type": "markdown",
   "metadata": {},
   "source": [
    "In this case, we can get a value using `G.edges[edge]` view"
   ]
  },
  {
   "cell_type": "code",
   "execution_count": null,
   "metadata": {},
   "outputs": [],
   "source": [
    "G.edges[(0, 1)]"
   ]
  },
  {
   "cell_type": "markdown",
   "metadata": {},
   "source": [
    "Or we can get all values using `nx.get_edge_attributes`"
   ]
  },
  {
   "cell_type": "code",
   "execution_count": null,
   "metadata": {},
   "outputs": [],
   "source": [
    "nx.get_edge_attributes(G, 'weight')"
   ]
  },
  {
   "cell_type": "code",
   "execution_count": null,
   "metadata": {},
   "outputs": [],
   "source": [
    "weights = list(nx.get_edge_attributes(G, 'weight').values())\n",
    "nx.draw_networkx(G, pos=layout, width=weights)"
   ]
  },
  {
   "cell_type": "markdown",
   "metadata": {},
   "source": [
    "If we want to apply specific color or style to some edges, it is possible by `edge_color` and `style` parameters. For example, we can draw an edge with a weight 10 as a red dotted line."
   ]
  },
  {
   "cell_type": "code",
   "execution_count": null,
   "metadata": {},
   "outputs": [],
   "source": [
    "nx.draw_networkx(\n",
    "    G, pos=layout, \n",
    "    width=[1, 5, 10], \n",
    "    edge_color=['black', 'black', 'red'], \n",
    "    style=['solid', 'solid', 'dotted'])"
   ]
  },
  {
   "cell_type": "markdown",
   "metadata": {},
   "source": [
    "Your task is to draw the matrix graph where an edge width is 0 if a weight is 1, otherwise it is a weight value itself. An edge color is `red` if weight is at least 5 and `black` otherwise."
   ]
  },
  {
   "cell_type": "code",
   "execution_count": null,
   "metadata": {
    "deletable": false,
    "nbgrader": {
     "cell_type": "code",
     "checksum": "c688adf77bad3a3ac7f1ff78019959c2",
     "grade": false,
     "grade_id": "cell-2497d776bb6eb00c",
     "locked": false,
     "schema_version": 3,
     "solution": true,
     "task": false
    }
   },
   "outputs": [],
   "source": [
    "def drawing_edges_params(graph):\n",
    "    # YOUR CODE HERE\n",
    "    raise NotImplementedError()"
   ]
  },
  {
   "cell_type": "code",
   "execution_count": null,
   "metadata": {
    "deletable": false,
    "editable": false,
    "nbgrader": {
     "cell_type": "code",
     "checksum": "a13fa128ee9f00182c372bf000486df0",
     "grade": true,
     "grade_id": "cell-b220499d1d3b12af",
     "locked": true,
     "points": 1,
     "schema_version": 3,
     "solution": false,
     "task": false
    }
   },
   "outputs": [],
   "source": [
    "matrixG = get_matrix_graph()\n",
    "params = drawing_edges_params(matrixG)\n",
    "assert type(params) == dict\n",
    "keys = ['G', 'pos', 'edge_color', 'width']\n",
    "assert len(set(params.keys()).intersection(keys)) == 4\n",
    "assert nx.to_numpy_array(params['G']).sum() == 326.0\n",
    "params['width'][0] == 2.0\n",
    "assert np.array(params['width']) @ params['width'] == 508\n",
    "assert adler32(str(params['edge_color']).encode()) == 646700613"
   ]
  },
  {
   "cell_type": "code",
   "execution_count": null,
   "metadata": {},
   "outputs": [],
   "source": [
    "plt.figure(figsize=(13, 7))\n",
    "nx.draw_networkx(**params)"
   ]
  },
  {
   "cell_type": "markdown",
   "metadata": {},
   "source": [
    "### Task 8. Labels visualization (1 point)"
   ]
  },
  {
   "cell_type": "markdown",
   "metadata": {},
   "source": [
    "In this task, we will modify some label parameters: font size, position, visibility. In networkx, we cannot pass a list of font sizes to `draw_networkx`, so we will use drawing by layers using other methods:\n",
    "* `draw_networkx_nodes` — draw the nodes only\n",
    "* `draw_networkx_edges` — draw the edges only\n",
    "* `draw_networkx_labels` — draw the node labels only\n",
    "* `nx.draw_networkx_edge_labels` — draw the edge labels only\n",
    "\n",
    "Also we can separately adjust an `alpha` value for nodes, edges, labels. Here is a simple example, let us draw a path graph with 4 nodes where the node 0 is labeled as \"a\", 3 is \"b\", the edge 1-2 is labeled as \"edge\", and edges are transparent with `alpha=0.2`."
   ]
  },
  {
   "cell_type": "code",
   "execution_count": null,
   "metadata": {},
   "outputs": [],
   "source": [
    "G = nx.path_graph(4)\n",
    "layout = nx.kamada_kawai_layout(G)\n",
    "nx.draw_networkx_nodes(G, pos=layout)\n",
    "nx.draw_networkx_edges(G, pos=layout, alpha=0.2)\n",
    "nx.draw_networkx_labels(G, pos=layout, labels={0: 'a', 3: 'b'})\n",
    "nx.draw_networkx_edge_labels(G, pos=layout, edge_labels={(1, 2): 'edge'})\n",
    "plt.show()"
   ]
  },
  {
   "cell_type": "markdown",
   "metadata": {},
   "source": [
    "If we want to adjust a font size, it is possible by repeated drawing labels with different `font_size` values. For example:"
   ]
  },
  {
   "cell_type": "code",
   "execution_count": null,
   "metadata": {},
   "outputs": [],
   "source": [
    "G = nx.path_graph(4)\n",
    "layout = nx.kamada_kawai_layout(G)\n",
    "nx.draw_networkx_nodes(G, pos=layout)\n",
    "nx.draw_networkx_edges(G, pos=layout, alpha=0.2)\n",
    "nx.draw_networkx_labels(G, pos=layout, labels={3: 'b'}, font_size=10)\n",
    "nx.draw_networkx_labels(G, pos=layout, labels={0: 'a'}, font_size=20)\n",
    "nx.draw_networkx_edge_labels(G, pos=layout, edge_labels={(1, 2): 'edge'})\n",
    "plt.show()"
   ]
  },
  {
   "cell_type": "markdown",
   "metadata": {},
   "source": [
    "Your task is to draw the matrix graph with settings: \n",
    "* labels are invisible if a node degree less than 6\n",
    "* a font size is a node degree\n",
    "* all labels are slided down so that $y = y - 0.025 \\sqrt{\\text{degree}}$\n",
    "\n",
    "Write a function `labels_list_parameters` that takes a graph, layout and returns a list of parameters for repited drawing labels using `nx.draw_networkx_labels`. Each element of the list is a dictionary that can be passed to `nx.draw_networkx_labels`. The first dictionary is for the node degree 6, the second is for 7 and so on."
   ]
  },
  {
   "cell_type": "code",
   "execution_count": null,
   "metadata": {
    "deletable": false,
    "nbgrader": {
     "cell_type": "code",
     "checksum": "d7e642dc51990cd6e94cd184a5fa9bb7",
     "grade": false,
     "grade_id": "cell-4b224f9002838252",
     "locked": false,
     "schema_version": 3,
     "solution": true,
     "task": false
    }
   },
   "outputs": [],
   "source": [
    "def labels_list_parameters(graph, layout):\n",
    "    # YOUR CODE HERE\n",
    "    raise NotImplementedError()"
   ]
  },
  {
   "cell_type": "code",
   "execution_count": null,
   "metadata": {
    "deletable": false,
    "editable": false,
    "nbgrader": {
     "cell_type": "code",
     "checksum": "ec18405231d47b2d8d1d546824c5521a",
     "grade": true,
     "grade_id": "cell-93a09c03f82c3cfb",
     "locked": true,
     "points": 1,
     "schema_version": 3,
     "solution": false,
     "task": false
    }
   },
   "outputs": [],
   "source": [
    "matrixG = get_matrix_graph()\n",
    "layout = nx.kamada_kawai_layout(matrixG)\n",
    "list_params = labels_list_parameters(matrixG, layout)\n",
    "assert type(list_params) == list\n",
    "assert type(list_params[0]) == dict\n",
    "assert len(list_params) == 8\n",
    "assert nx.to_numpy_array(list_params[0]['G']).sum() == 326\n",
    "assert list_params[0]['font_size'] == 6\n",
    "assert adler32(str(np.array(list_params[7]['font_size'])).encode()) == 10027110\n",
    "assert np.all(list_params[0]['pos']['MAN'].round(2) == [-0.16, 0.05])\n",
    "assert adler32(\n",
    "    str(list_params[0]['pos']['AGENT JONES'].round(2)[1]).encode()) == 46465263\n",
    "assert adler32(\n",
    "    str(list_params[7]['pos']['NEO'].round(2)[1]).encode()) == 46792946\n",
    "assert list_params[1]['labels']['AGENT SMITH'] == 'AGENT SMITH'\n",
    "assert list_params[1]['labels'].get('AGENT JONES') is None \\\n",
    "    or list_params[1]['labels']['AGENT JONES'] == ''\n",
    "assert len([val for val in  list_params[2]['labels'].values() if val != '']) == 3"
   ]
  },
  {
   "cell_type": "code",
   "execution_count": null,
   "metadata": {},
   "outputs": [],
   "source": [
    "plt.figure(figsize=(13, 7))\n",
    "layout = nx.kamada_kawai_layout(matrixG)\n",
    "nx.draw_networkx_nodes(matrixG, pos=layout)\n",
    "nx.draw_networkx_edges(matrixG, pos=layout, alpha=0.2)\n",
    "for params in labels_list_parameters(matrixG, layout):\n",
    "    nx.draw_networkx_labels(**params)\n",
    "plt.show()"
   ]
  },
  {
   "cell_type": "markdown",
   "metadata": {},
   "source": [
    "### Task 9. Visible area (1 points)"
   ]
  },
  {
   "cell_type": "markdown",
   "metadata": {},
   "source": [
    "Drawing a large graph, it may be useful to zoom in an area near some nodes by `plt.xlim(x_min, x_max)` and `plt.ylim(y_min, y_max)` where `x_max` is a right border, `y_max` is a top border. "
   ]
  },
  {
   "cell_type": "code",
   "execution_count": null,
   "metadata": {},
   "outputs": [],
   "source": [
    "G = nx.path_graph(4)\n",
    "layout = nx.kamada_kawai_layout(G)\n",
    "nx.draw_networkx(G, pos=layout)\n",
    "plt.xlim(-0.5, 0.5)\n",
    "plt.ylim(-0.5, 0.5)\n",
    "plt.show()"
   ]
  },
  {
   "cell_type": "markdown",
   "metadata": {},
   "source": [
    "Let us adjust a visible area and combine previous drawing techniques to get a more meaningful figure:\n",
    "* take a node color from the `viz.color` node attribute converting 0-255 range to 0-1 range\n",
    "* set a node size as $5\\times\\text{degree}^2$\n",
    "* take an edge width from the `weight` edge attribute\n",
    "* set an edge alpha is 0.2\n",
    "* labels are invisible if a node degree less than 6\n",
    "* set a font size as $3 \\times \\text{degree}^{2/3}$\n",
    "* set a visible area such that a lower border is NEO, higher is AGENT SMITH, left is MORPHEUS, right is TANK.\n",
    "\n",
    "Write a function `get_all_params` that takes a graph and layout and returns a dictionary with keys:\n",
    "* `nodes_params` — dict, parameters for `nx.draw_networkx_nodes`\n",
    "* `edges_params` — dict, parameters for `nx.draw_networkx_edges`\n",
    "* `labels_param_list` — list of dict, parameters for `nx.draw_networkx_edges`, for degrees 6, 7 and so on\n",
    "* `area` — list of float vlues: a left, right, lower, higher borders of the visible area"
   ]
  },
  {
   "cell_type": "code",
   "execution_count": null,
   "metadata": {
    "deletable": false,
    "nbgrader": {
     "cell_type": "code",
     "checksum": "44dda913e3a7cccfe3f939514195f959",
     "grade": false,
     "grade_id": "cell-563f657325a0fe0e",
     "locked": false,
     "schema_version": 3,
     "solution": true,
     "task": false
    }
   },
   "outputs": [],
   "source": [
    "def get_all_params(graph, layout):\n",
    "    # YOUR CODE HERE\n",
    "    raise NotImplementedError()"
   ]
  },
  {
   "cell_type": "code",
   "execution_count": null,
   "metadata": {
    "deletable": false,
    "editable": false,
    "nbgrader": {
     "cell_type": "code",
     "checksum": "c28603a03c0a07044d264c5a95d9da7b",
     "grade": true,
     "grade_id": "cell-3e36285c3c4a583a",
     "locked": true,
     "points": 1,
     "schema_version": 3,
     "solution": false,
     "task": false
    }
   },
   "outputs": [],
   "source": [
    "matrixG = get_matrix_graph()\n",
    "layout = nx.kamada_kawai_layout(matrixG)\n",
    "all_params = get_all_params(matrixG, layout)\n",
    "assert type(all_params) == dict\n",
    "keys = ['nodes_params', 'edges_params', 'labels_param_list', 'area']\n",
    "assert len(set(all_params.keys()).intersection(keys)) == 4\n",
    "assert nx.to_numpy_array(all_params['nodes_params']['G']).sum() == 326\n",
    "assert np.all(all_params['nodes_params']['pos']['NEO'].round(2) == [0., -0.3])\n",
    "assert np.all(all_params['nodes_params']['node_color'][4].round(2) == [1., 0.86, 0.4])\n",
    "assert all_params['nodes_params']['node_size'][10] == 20\n",
    "assert nx.to_numpy_array(all_params['edges_params']['G']).sum() == 326\n",
    "assert np.all(all_params['edges_params']['pos']['NEO'].round(2) == [0. , -0.3])\n",
    "assert all_params['edges_params']['alpha'] == 0.2\n",
    "assert all_params['edges_params']['width'][20] == 2\n",
    "assert type(all_params['labels_param_list']) == list\n",
    "assert nx.to_numpy_array(all_params['labels_param_list'][0]['G']).sum() == 326\n",
    "assert np.all(all_params['labels_param_list'][5]['pos']['NEO'].round(2) == [0. , -0.3])\n",
    "assert all_params['labels_param_list'][5]['labels'].get('WOMAN') is None \\\n",
    "    or all_params['labels_param_list'][5]['labels']['WOMAN'] == ''\n",
    "assert round(all_params['labels_param_list'][2]['font_size'], 4) == 12\n",
    "assert all_params['area'][0] < all_params['area'][1]\n",
    "assert all_params['area'][2] < all_params['area'][3]"
   ]
  },
  {
   "cell_type": "code",
   "execution_count": null,
   "metadata": {},
   "outputs": [],
   "source": [
    "plt.figure(figsize=(10, 7))\n",
    "nx.draw_networkx_nodes(**all_params['nodes_params'])\n",
    "nx.draw_networkx_edges(**all_params['edges_params'])\n",
    "for params in all_params['labels_param_list']:\n",
    "    nx.draw_networkx_labels(**params)\n",
    "plt.xlim(all_params['area'][0] - 0.15, all_params['area'][1] + 0.1)\n",
    "plt.ylim(all_params['area'][2] - 0.10, all_params['area'][3] + 0.1)\n",
    "plt.show()"
   ]
  },
  {
   "cell_type": "code",
   "execution_count": null,
   "metadata": {},
   "outputs": [],
   "source": []
  }
 ],
 "metadata": {
  "interpreter": {
   "hash": "b4708a1c9cd68008d5403cfef398f579287b6bae67d378585da65690e5821acf"
  },
  "kernelspec": {
   "display_name": "Python 3.10.4 ('ns_custom')",
   "language": "python",
   "name": "python3"
  },
  "language_info": {
   "codemirror_mode": {
    "name": "ipython",
    "version": 3
   },
   "file_extension": ".py",
   "mimetype": "text/x-python",
   "name": "python",
   "nbconvert_exporter": "python",
   "pygments_lexer": "ipython3",
   "version": "3.10.4"
  }
 },
 "nbformat": 4,
 "nbformat_minor": 4
}
